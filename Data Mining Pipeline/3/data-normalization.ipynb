{
 "cells": [
  {
   "cell_type": "markdown",
   "metadata": {
    "deletable": false,
    "editable": false,
    "nbgrader": {
     "cell_type": "markdown",
     "checksum": "45afe8e1386bb813621db67c1e85d2c1",
     "grade": false,
     "grade_id": "cell-8a70a56233894d42",
     "locked": true,
     "schema_version": 3,
     "solution": false,
     "task": false
    }
   },
   "source": [
    "# Homework 2\n",
    "***\n",
    "**Name**: $<$insert name here$>$ \n",
    "***\n",
    "\n",
    "Remember that you are encouraged to discuss the problems with your instructors and classmates, but **you must write all code and solutions on your own**."
   ]
  },
  {
   "cell_type": "markdown",
   "metadata": {
    "deletable": false,
    "editable": false,
    "nbgrader": {
     "cell_type": "markdown",
     "checksum": "1b98fbdff894309fe3937b7d4d55eb34",
     "grade": false,
     "grade_id": "cell-d3925f1a2ed0ba39",
     "locked": true,
     "schema_version": 3,
     "solution": false,
     "task": false
    }
   },
   "source": [
    "The rules to be followed for the assignment are:\n",
    "\n",
    "- Do **NOT** load additional packages beyond what we've shared in the cells below. \n",
    "- Some problems with code may be autograded.  If we provide a function or class API **do not** change it.\n",
    "- Do not change the location of the data or data directory.  Use only relative paths to access the data. "
   ]
  },
  {
   "cell_type": "code",
   "execution_count": 1,
   "metadata": {
    "ExecuteTime": {
     "end_time": "2020-09-10T01:22:03.370195Z",
     "start_time": "2020-09-10T01:22:02.356211Z"
    },
    "deletable": false,
    "editable": false,
    "nbgrader": {
     "cell_type": "code",
     "checksum": "728bb8c12435a7d8af07857e799b9025",
     "grade": false,
     "grade_id": "cell-76950cd59a275b9b",
     "locked": true,
     "schema_version": 3,
     "solution": false,
     "task": false
    }
   },
   "outputs": [],
   "source": [
    "import pandas as pd\n",
    "import numpy as np\n",
    "import pickle\n",
    "from pathlib import Path\n",
    "import math"
   ]
  },
  {
   "cell_type": "code",
   "execution_count": 68,
   "metadata": {},
   "outputs": [
    {
     "name": "stdout",
     "output_type": "stream",
     "text": [
      "\u001b[33mWARNING: Ignoring invalid distribution -ip (/opt/conda/lib/python3.7/site-packages)\u001b[0m\u001b[33m\n",
      "\u001b[0mRequirement already satisfied: pandas in /opt/conda/lib/python3.7/site-packages (1.0.3)\n",
      "Requirement already satisfied: python-dateutil>=2.6.1 in /opt/conda/lib/python3.7/site-packages (from pandas) (2.8.1)\n",
      "Requirement already satisfied: pytz>=2017.2 in /opt/conda/lib/python3.7/site-packages (from pandas) (2020.1)\n",
      "Requirement already satisfied: numpy>=1.13.3 in /opt/conda/lib/python3.7/site-packages (from pandas) (1.18.4)\n",
      "Requirement already satisfied: six>=1.5 in /opt/conda/lib/python3.7/site-packages (from python-dateutil>=2.6.1->pandas) (1.14.0)\n",
      "\u001b[33mWARNING: Ignoring invalid distribution -ip (/opt/conda/lib/python3.7/site-packages)\u001b[0m\u001b[33m\n",
      "\u001b[0mNote: you may need to restart the kernel to use updated packages.\n"
     ]
    }
   ],
   "source": [
    "pip install pandas\n"
   ]
  },
  {
   "cell_type": "code",
   "execution_count": 67,
   "metadata": {},
   "outputs": [
    {
     "name": "stdout",
     "output_type": "stream",
     "text": [
      "Requirement already satisfied: pip in /opt/conda/lib/python3.7/site-packages (23.1.2)\n",
      "Collecting pip\n",
      "  Downloading pip-24.0-py3-none-any.whl (2.1 MB)\n",
      "\u001b[2K     \u001b[90m━━━━━━━━━━━━━━━━━━━━━━━━━━━━━━━━━━━━━━━━\u001b[0m \u001b[32m2.1/2.1 MB\u001b[0m \u001b[31m124.4 MB/s\u001b[0m eta \u001b[36m0:00:00\u001b[0m\n",
      "\u001b[?25hInstalling collected packages: pip\n",
      "  Attempting uninstall: pip\n",
      "    Found existing installation: pip 23.1.2\n",
      "    Uninstalling pip-23.1.2:\n",
      "      Successfully uninstalled pip-23.1.2\n",
      "\u001b[31mERROR: Could not install packages due to an OSError: [Errno 13] Permission denied: 'AUTHORS.txt'\n",
      "Consider using the `--user` option or check the permissions.\n",
      "\u001b[0m\u001b[31m\n",
      "\u001b[0mNote: you may need to restart the kernel to use updated packages.\n"
     ]
    }
   ],
   "source": [
    "pip install --upgrade pip"
   ]
  },
  {
   "cell_type": "markdown",
   "metadata": {
    "deletable": false,
    "editable": false,
    "nbgrader": {
     "cell_type": "markdown",
     "checksum": "3c78a88f5de1e17ba4a6a9bc1ce64784",
     "grade": false,
     "grade_id": "cell-eeb3bd05ca5a2672",
     "locked": true,
     "schema_version": 3,
     "solution": false,
     "task": false
    }
   },
   "source": [
    "### Problem 1\n",
    "***\n",
    "\n",
    "There are two functions that need to be completed:\n",
    "\n",
    "#### normalization(fname, attr, normType)\n",
    "\n",
    "- This function takes in the location of the data file, the attribute that has to be normalised (one of the values from 'Open','High','Low','Close','Volume', given as column indices) and the type of normalization to be performed ('min_max' or 'z_score')\n",
    "\n",
    "- Based on the normalisation type that is mentioned, you will have to apply the appropriate formula and return a dictionary where key = original value in the dataset, value = normalised value\n",
    "\n",
    "- A sample dataset has been provided to you at this location \"./data/HistoricalQuotes.csv\". Use this dataset to test the functionality you are building.\n",
    "\n",
    "#### correlation (fname1, attr1, fname2, attr2)\n",
    "\n",
    "- This function takes in the location of the first data file, the attribute that has to be used in the first file, the location of the second data file and the attribute that has to be used in the second file.\n",
    "\n",
    "- This function has to calculate the correlation coefficient between the two attributes mentioned in the two files.\n",
    "\n",
    "- Two Sample datasets have been provided to you in \"./data/test1.csv\" and \"./data/test2.csv\" respectively.\n",
    "\n",
    "- The two sample files have the following attributes 'Open','High','Last','Low','Volume'. Use these two sample files to test the functionality you are building.\n",
    "\n",
    "Note:\n",
    "- If the test case fails, one way to debug is to see the output of the testing data and comparing it to your output.\n",
    "- Initially the test case will be failed as there is no code in the below two functions."
   ]
  },
  {
   "cell_type": "code",
   "execution_count": 50,
   "metadata": {
    "ExecuteTime": {
     "end_time": "2020-09-10T01:24:33.428213Z",
     "start_time": "2020-09-10T01:24:33.423898Z"
    },
    "deletable": false,
    "nbgrader": {
     "cell_type": "code",
     "checksum": "5bc7e76c2c1a5ce1942a310ff8c6ce8f",
     "grade": false,
     "grade_id": "normalization",
     "locked": false,
     "schema_version": 3,
     "solution": true,
     "task": false
    }
   },
   "outputs": [],
   "source": [
    "import csv\n",
    "\n",
    "\n",
    "def normalization (fname, attr, normType):\n",
    "    '''\n",
    "    Input Parameters:\n",
    "        fname: Name of the csv file contiaining historical quotes\n",
    "        attr: The attribute to be normalized \n",
    "        normType: The type of normalization \n",
    "    Output:\n",
    "        a dictionary where each key is the original column value and each value is the normalised column value. \n",
    "    '''\n",
    "    result = {\n",
    "        \n",
    "    }\n",
    "    \n",
    "    df = pd.read_csv(fname)\n",
    "    #if attr not in df.columns:\n",
    "    #    return {\"Error\": f\"'{attr}' attribute not found in the dataset\"}\n",
    "\n",
    "    # Extract the specified attribute column\n",
    "    attr_values = df.iloc[:,attr] \n",
    "    print(attr_values[0])\n",
    "    # Perform normalization based on the given normType\n",
    "    if normType == 'min_max':\n",
    "        min_val = attr_values.min()\n",
    "        max_val = attr_values.max()\n",
    "        normalized_values = (attr_values - min_val) / (max_val - min_val)\n",
    "    elif normType == 'z_score':\n",
    "        mean_val = attr_values.mean()\n",
    "        std_dev = attr_values.std()\n",
    "        normalized_values = (attr_values - mean_val) / std_dev\n",
    "    else:\n",
    "        return {\"Error\": \"Invalid normType. Use 'min_max' or 'z_score'\"}\n",
    "\n",
    "    # Create a dictionary where keys are original values, and values are normalized values\n",
    "    result = dict(zip(attr_values, normalized_values))\n",
    "\n",
    "    return result"
   ]
  },
  {
   "cell_type": "code",
   "execution_count": 51,
   "metadata": {},
   "outputs": [
    {
     "name": "stdout",
     "output_type": "stream",
     "text": [
      "478\n"
     ]
    },
    {
     "data": {
      "text/plain": [
       "{478: 0.9598393574297188,\n",
       " 123: 0.2469879518072289,\n",
       " 484: 0.9718875502008032,\n",
       " 476: 0.9558232931726908,\n",
       " 112: 0.2248995983935743,\n",
       " 349: 0.7008032128514057,\n",
       " 312: 0.6265060240963856,\n",
       " 135: 0.2710843373493976,\n",
       " 288: 0.5783132530120482,\n",
       " 165: 0.3313253012048193,\n",
       " 163: 0.3273092369477912,\n",
       " 56: 0.11244979919678715,\n",
       " 149: 0.2991967871485944,\n",
       " 268: 0.5381526104417671,\n",
       " 440: 0.8835341365461847,\n",
       " 486: 0.9759036144578314,\n",
       " 241: 0.4839357429718876,\n",
       " 309: 0.6204819277108434,\n",
       " 417: 0.8373493975903614,\n",
       " 103: 0.20682730923694778,\n",
       " 391: 0.785140562248996,\n",
       " 291: 0.5843373493975904,\n",
       " 37: 0.07429718875502007,\n",
       " 405: 0.8132530120481928,\n",
       " 372: 0.7469879518072289,\n",
       " 467: 0.9377510040160643,\n",
       " 143: 0.28714859437751006,\n",
       " 51: 0.10240963855421686,\n",
       " 81: 0.16265060240963855,\n",
       " 190: 0.3815261044176707,\n",
       " 111: 0.22289156626506024,\n",
       " 62: 0.12449799196787148,\n",
       " 38: 0.07630522088353414,\n",
       " 175: 0.3514056224899598,\n",
       " 304: 0.6104417670682731,\n",
       " 497: 0.9979919678714859,\n",
       " 463: 0.929718875502008,\n",
       " 408: 0.8192771084337349,\n",
       " 343: 0.6887550200803213,\n",
       " 448: 0.8995983935742972,\n",
       " 490: 0.9839357429718876,\n",
       " 380: 0.7630522088353414,\n",
       " 348: 0.6987951807228916,\n",
       " 329: 0.6606425702811245,\n",
       " 192: 0.3855421686746988,\n",
       " 346: 0.6947791164658634,\n",
       " 325: 0.6526104417670683,\n",
       " 278: 0.5582329317269076,\n",
       " 231: 0.463855421686747,\n",
       " 31: 0.06224899598393574,\n",
       " 1: 0.002008032128514056,\n",
       " 392: 0.7871485943775101,\n",
       " 386: 0.7751004016064257,\n",
       " 179: 0.35943775100401604,\n",
       " 465: 0.9337349397590361,\n",
       " 91: 0.1827309236947791,\n",
       " 359: 0.7208835341365462,\n",
       " 102: 0.20481927710843373,\n",
       " 121: 0.2429718875502008,\n",
       " 107: 0.21485943775100402,\n",
       " 470: 0.9437751004016064,\n",
       " 488: 0.9799196787148594,\n",
       " 306: 0.6144578313253012,\n",
       " 320: 0.642570281124498,\n",
       " 379: 0.7610441767068273,\n",
       " 282: 0.5662650602409639,\n",
       " 232: 0.46586345381526106,\n",
       " 418: 0.8393574297188755,\n",
       " 363: 0.7289156626506024,\n",
       " 453: 0.9096385542168675,\n",
       " 269: 0.5401606425702812,\n",
       " 21: 0.04216867469879518,\n",
       " 28: 0.05622489959839357,\n",
       " 114: 0.2289156626506024,\n",
       " 373: 0.748995983935743,\n",
       " 153: 0.3072289156626506,\n",
       " 57: 0.1144578313253012,\n",
       " 167: 0.3353413654618474,\n",
       " 406: 0.8152610441767069,\n",
       " 34: 0.06827309236947791,\n",
       " 212: 0.42570281124497994,\n",
       " 180: 0.3614457831325301,\n",
       " 55: 0.11044176706827309,\n",
       " 46: 0.09236947791164658,\n",
       " 295: 0.5923694779116466,\n",
       " 308: 0.6184738955823293,\n",
       " 331: 0.6646586345381527,\n",
       " 354: 0.7108433734939759,\n",
       " 54: 0.10843373493975904,\n",
       " 360: 0.7228915662650602,\n",
       " 84: 0.1686746987951807,\n",
       " 475: 0.9538152610441767,\n",
       " 419: 0.8413654618473896,\n",
       " 389: 0.7811244979919679,\n",
       " 89: 0.178714859437751,\n",
       " 142: 0.285140562248996,\n",
       " 433: 0.8694779116465864,\n",
       " 60: 0.12048192771084337,\n",
       " 237: 0.4759036144578313,\n",
       " 460: 0.9236947791164659,\n",
       " 319: 0.6405622489959839,\n",
       " 176: 0.3534136546184739,\n",
       " 454: 0.9116465863453815,\n",
       " 438: 0.8795180722891566,\n",
       " 334: 0.6706827309236948,\n",
       " 217: 0.4357429718875502,\n",
       " 314: 0.6305220883534136,\n",
       " 177: 0.35542168674698793,\n",
       " 260: 0.5220883534136547,\n",
       " 299: 0.6004016064257028,\n",
       " 43: 0.08634538152610442,\n",
       " 86: 0.17269076305220885,\n",
       " 72: 0.14457831325301204,\n",
       " 77: 0.15461847389558234,\n",
       " 292: 0.5863453815261044,\n",
       " 254: 0.5100401606425703,\n",
       " 313: 0.6285140562248996,\n",
       " 124: 0.24899598393574296,\n",
       " 362: 0.7269076305220884,\n",
       " 385: 0.7730923694779116,\n",
       " 85: 0.1706827309236948,\n",
       " 95: 0.19076305220883535,\n",
       " 409: 0.821285140562249,\n",
       " 344: 0.6907630522088354,\n",
       " 45: 0.09036144578313253,\n",
       " 120: 0.24096385542168675,\n",
       " 297: 0.5963855421686747,\n",
       " 264: 0.5301204819277109,\n",
       " 137: 0.2751004016064257,\n",
       " 361: 0.7248995983935743,\n",
       " 286: 0.5742971887550201,\n",
       " 414: 0.8313253012048193,\n",
       " 249: 0.5,\n",
       " 158: 0.3172690763052209,\n",
       " 457: 0.9176706827309237,\n",
       " 328: 0.6586345381526104,\n",
       " 456: 0.9156626506024096,\n",
       " 17: 0.03413654618473896,\n",
       " 273: 0.5481927710843374,\n",
       " 342: 0.6867469879518072,\n",
       " 383: 0.7690763052208835,\n",
       " 483: 0.9698795180722891,\n",
       " 491: 0.9859437751004017,\n",
       " 227: 0.45582329317269077,\n",
       " 172: 0.3453815261044177,\n",
       " 494: 0.9919678714859438,\n",
       " 305: 0.6124497991967871,\n",
       " 426: 0.8554216867469879,\n",
       " 326: 0.6546184738955824,\n",
       " 256: 0.5140562248995983,\n",
       " 321: 0.6445783132530121,\n",
       " 36: 0.07228915662650602,\n",
       " 271: 0.5441767068273092,\n",
       " 184: 0.36947791164658633,\n",
       " 266: 0.5341365461847389,\n",
       " 230: 0.46184738955823296,\n",
       " 162: 0.3253012048192771,\n",
       " 367: 0.7369477911646586,\n",
       " 358: 0.7188755020080321,\n",
       " 24: 0.04819277108433735,\n",
       " 496: 0.9959839357429718,\n",
       " 335: 0.6726907630522089,\n",
       " 464: 0.9317269076305221,\n",
       " 450: 0.9036144578313253,\n",
       " 429: 0.8614457831325302,\n",
       " 301: 0.6044176706827309,\n",
       " 71: 0.142570281124498,\n",
       " 398: 0.7991967871485943,\n",
       " 50: 0.10040160642570281,\n",
       " 431: 0.8654618473895582,\n",
       " 26: 0.05220883534136546,\n",
       " 287: 0.5763052208835341,\n",
       " 216: 0.43373493975903615,\n",
       " 125: 0.25100401606425704,\n",
       " 443: 0.8895582329317269,\n",
       " 106: 0.21285140562248997,\n",
       " 20: 0.040160642570281124,\n",
       " 242: 0.4859437751004016,\n",
       " 133: 0.26706827309236947,\n",
       " 439: 0.8815261044176707,\n",
       " 32: 0.0642570281124498,\n",
       " 449: 0.9016064257028112,\n",
       " 154: 0.3092369477911647,\n",
       " 152: 0.30522088353413657,\n",
       " 425: 0.8534136546184738,\n",
       " 310: 0.6224899598393574,\n",
       " 317: 0.6365461847389559,\n",
       " 298: 0.5983935742971888,\n",
       " 263: 0.5281124497991968,\n",
       " 461: 0.9257028112449799,\n",
       " 29: 0.05823293172690763,\n",
       " 477: 0.9578313253012049,\n",
       " 302: 0.606425702811245,\n",
       " 171: 0.3433734939759036,\n",
       " 479: 0.9618473895582329,\n",
       " 480: 0.963855421686747,\n",
       " 132: 0.26506024096385544,\n",
       " 415: 0.8333333333333334,\n",
       " 393: 0.7891566265060241,\n",
       " 144: 0.2891566265060241,\n",
       " 164: 0.3293172690763052,\n",
       " 197: 0.39558232931726905,\n",
       " 283: 0.5682730923694779,\n",
       " 76: 0.15261044176706828,\n",
       " 436: 0.8755020080321285,\n",
       " 4: 0.008032128514056224,\n",
       " 258: 0.5180722891566265,\n",
       " 183: 0.3674698795180723,\n",
       " 374: 0.751004016064257,\n",
       " 188: 0.37751004016064255,\n",
       " 293: 0.5883534136546185,\n",
       " 42: 0.08433734939759036,\n",
       " 279: 0.5602409638554217,\n",
       " 94: 0.18875502008032127,\n",
       " 323: 0.6485943775100401,\n",
       " 104: 0.20883534136546184,\n",
       " 99: 0.19879518072289157,\n",
       " 244: 0.4899598393574297,\n",
       " 275: 0.5522088353413654,\n",
       " 213: 0.42771084337349397,\n",
       " 208: 0.41767068273092367,\n",
       " 191: 0.38353413654618473,\n",
       " 324: 0.6506024096385542,\n",
       " 377: 0.7570281124497992,\n",
       " 410: 0.8232931726907631,\n",
       " 69: 0.13855421686746988,\n",
       " 221: 0.44377510040160645,\n",
       " 23: 0.04618473895582329,\n",
       " 421: 0.8453815261044176,\n",
       " 411: 0.8253012048192772,\n",
       " 147: 0.29518072289156627,\n",
       " 96: 0.1927710843373494,\n",
       " 203: 0.40763052208835343,\n",
       " 0: 0.0,\n",
       " 222: 0.4457831325301205,\n",
       " 259: 0.5200803212851406,\n",
       " 444: 0.891566265060241,\n",
       " 201: 0.4036144578313253,\n",
       " 402: 0.8072289156626506,\n",
       " 210: 0.42168674698795183,\n",
       " 238: 0.4779116465863454,\n",
       " 119: 0.2389558232931727,\n",
       " 93: 0.18674698795180722,\n",
       " 92: 0.18473895582329317,\n",
       " 83: 0.16666666666666666,\n",
       " 157: 0.3152610441767068,\n",
       " 257: 0.5160642570281124,\n",
       " 265: 0.5321285140562249,\n",
       " 489: 0.9819277108433735,\n",
       " 59: 0.11847389558232932,\n",
       " 22: 0.04417670682730924,\n",
       " 394: 0.7911646586345381,\n",
       " 248: 0.4979919678714859,\n",
       " 378: 0.7590361445783133,\n",
       " 195: 0.39156626506024095,\n",
       " 12: 0.024096385542168676,\n",
       " 350: 0.7028112449799196,\n",
       " 139: 0.2791164658634538,\n",
       " 73: 0.1465863453815261,\n",
       " 382: 0.7670682730923695,\n",
       " 145: 0.29116465863453816,\n",
       " 156: 0.3132530120481928,\n",
       " 455: 0.9136546184738956,\n",
       " 186: 0.37349397590361444,\n",
       " 451: 0.9056224899598394,\n",
       " 252: 0.5060240963855421,\n",
       " 274: 0.5502008032128514,\n",
       " 445: 0.893574297188755,\n",
       " 105: 0.21084337349397592,\n",
       " 307: 0.6164658634538153,\n",
       " 240: 0.4819277108433735,\n",
       " 225: 0.45180722891566266,\n",
       " 277: 0.5562248995983936,\n",
       " 200: 0.40160642570281124,\n",
       " 218: 0.43775100401606426,\n",
       " 318: 0.6385542168674698,\n",
       " 39: 0.0783132530120482,\n",
       " 136: 0.27309236947791166,\n",
       " 98: 0.19678714859437751,\n",
       " 466: 0.9357429718875502,\n",
       " 333: 0.6686746987951807,\n",
       " 159: 0.3192771084337349,\n",
       " 131: 0.26305220883534136,\n",
       " 117: 0.23493975903614459,\n",
       " 420: 0.8433734939759037,\n",
       " 272: 0.5461847389558233,\n",
       " 187: 0.3755020080321285,\n",
       " 65: 0.13052208835341367,\n",
       " 270: 0.5421686746987951,\n",
       " 493: 0.9899598393574297,\n",
       " 397: 0.7971887550200804,\n",
       " 63: 0.12650602409638553,\n",
       " 8: 0.01606425702811245,\n",
       " 68: 0.13654618473895583,\n",
       " 498: 1.0,\n",
       " 224: 0.4497991967871486,\n",
       " 128: 0.2570281124497992,\n",
       " 9: 0.018072289156626505,\n",
       " 209: 0.41967871485943775,\n",
       " 262: 0.5261044176706827,\n",
       " 341: 0.6847389558232931,\n",
       " 236: 0.4738955823293173,\n",
       " 247: 0.4959839357429719,\n",
       " 146: 0.2931726907630522,\n",
       " 474: 0.9518072289156626,\n",
       " 351: 0.7048192771084337,\n",
       " 239: 0.4799196787148594,\n",
       " 155: 0.3112449799196787,\n",
       " 255: 0.5120481927710844,\n",
       " 369: 0.7409638554216867,\n",
       " 58: 0.11646586345381527,\n",
       " 388: 0.7791164658634538,\n",
       " 129: 0.25903614457831325,\n",
       " 395: 0.7931726907630522,\n",
       " 390: 0.7831325301204819,\n",
       " 189: 0.3795180722891566,\n",
       " 296: 0.5943775100401606,\n",
       " 290: 0.5823293172690763}"
      ]
     },
     "execution_count": 51,
     "metadata": {},
     "output_type": "execute_result"
    }
   ],
   "source": [
    "normalization(\"./data/normalization_test_data.csv\", 0, \"min_max\")"
   ]
  },
  {
   "cell_type": "code",
   "execution_count": 39,
   "metadata": {
    "deletable": false,
    "editable": false,
    "nbgrader": {
     "cell_type": "code",
     "checksum": "2e0d7d290878957d9535e285ed9ba393",
     "grade": true,
     "grade_id": "test_normalization",
     "locked": true,
     "points": 3,
     "schema_version": 3,
     "solution": false,
     "task": false
    }
   },
   "outputs": [
    {
     "data": {
      "text/plain": [
       "'\\nThis cell has hidden test cases that will run after you submit your assignment. \\nYou can troubleshoot using the unit tests we shared below.\\n'"
      ]
     },
     "execution_count": 39,
     "metadata": {},
     "output_type": "execute_result"
    }
   ],
   "source": [
    "'''\n",
    "This cell has hidden test cases that will run after you submit your assignment. \n",
    "You can troubleshoot using the unit tests we shared below.\n",
    "'''\n"
   ]
  },
  {
   "cell_type": "code",
   "execution_count": 9,
   "metadata": {
    "ExecuteTime": {
     "end_time": "2020-09-10T01:24:55.210777Z",
     "start_time": "2020-09-10T01:24:55.201476Z"
    },
    "deletable": false,
    "nbgrader": {
     "cell_type": "code",
     "checksum": "862c679b0e1c220375a75868ae05a503",
     "grade": false,
     "grade_id": "correlation",
     "locked": false,
     "schema_version": 3,
     "solution": true,
     "task": false
    }
   },
   "outputs": [],
   "source": [
    "def correlation (fname1, attr1, fname2, attr2):\n",
    "    '''\n",
    "    Input Parameters:\n",
    "        fname1: name of the first csv file containing historical quotes\n",
    "        attr1: The attribute to consider in the first csv file (fname1)\n",
    "        fname2: name of the second csv file containing historical quotes\n",
    "        attr2: The attribute to consider in the second csv file (fname2)\n",
    "        \n",
    "    Output:\n",
    "        correlation coefficient between attr1 in fname1 and attr2 in fname2\n",
    "    '''\n",
    "    \n",
    "    correlation_coefficient = 0.0\n",
    "        \n",
    "    \n",
    "    #TODO: Write code given the Input / Output Paramters.\n",
    "    \n",
    "    # your code here\n",
    "    df1 = pd.read_csv(fname1)\n",
    "    df_col1 = df1.iloc[:,attr1]  \n",
    "    df_col1_mean = df_col1.mean()\n",
    "    df_col1_std = df_col1.std()\n",
    "\n",
    "    df2 = pd.read_csv(fname2)\n",
    "    df_col2 = df2.iloc[:,attr2]\n",
    "    df_col2_mean = df_col2.mean()\n",
    "    df_col2_std = df_col1.std()\n",
    "\n",
    "    correlation_coefficient = df_col2.corr(df_col1)\n",
    "    \n",
    "    return correlation_coefficient\n"
   ]
  },
  {
   "cell_type": "code",
   "execution_count": 10,
   "metadata": {
    "deletable": false,
    "editable": false,
    "nbgrader": {
     "cell_type": "code",
     "checksum": "6f543a7eb3374de561e6640f3101fb49",
     "grade": true,
     "grade_id": "test_correlation",
     "locked": true,
     "points": 3,
     "schema_version": 3,
     "solution": false,
     "task": false
    }
   },
   "outputs": [
    {
     "data": {
      "text/plain": [
       "'\\nThis cell has hidden test cases that will run after you submit your assignment. \\nYou can troubleshoot using the unit tests we shared below.\\n'"
      ]
     },
     "execution_count": 10,
     "metadata": {},
     "output_type": "execute_result"
    }
   ],
   "source": [
    "'''\n",
    "This cell has hidden test cases that will run after you submit your assignment. \n",
    "You can troubleshoot using the unit tests we shared below.\n",
    "'''\n"
   ]
  },
  {
   "cell_type": "code",
   "execution_count": 52,
   "metadata": {
    "ExecuteTime": {
     "end_time": "2020-09-10T01:28:36.101216Z",
     "start_time": "2020-09-10T01:28:36.049564Z"
    },
    "deletable": false,
    "editable": false,
    "nbgrader": {
     "cell_type": "code",
     "checksum": "e26989a1a0f566bbde748e091e86193c",
     "grade": false,
     "grade_id": "cell-073dcfbad9049939",
     "locked": true,
     "schema_version": 3,
     "solution": false,
     "task": false
    }
   },
   "outputs": [
    {
     "name": "stderr",
     "output_type": "stream",
     "text": [
      "..."
     ]
    },
    {
     "name": "stdout",
     "output_type": "stream",
     "text": [
      "478\n",
      "126.29568749244257\n"
     ]
    },
    {
     "name": "stderr",
     "output_type": "stream",
     "text": [
      "\n",
      "----------------------------------------------------------------------\n",
      "Ran 3 tests in 0.024s\n",
      "\n",
      "OK\n"
     ]
    },
    {
     "data": {
      "text/plain": [
       "<unittest.runner.TextTestResult run=3 errors=0 failures=0>"
      ]
     },
     "execution_count": 52,
     "metadata": {},
     "output_type": "execute_result"
    }
   ],
   "source": [
    "import unittest\n",
    "\n",
    "class TestKnn(unittest.TestCase):\n",
    "    def setUp(self):\n",
    "        self.loc1 = \"data/test1.csv\"\n",
    "        self.loc2 = \"data/test2.csv\"\n",
    "        file = open('data/testing_normalization', 'rb')\n",
    "        self.data_normalization = pickle.load(file)\n",
    "        file.close()\n",
    "        file = open('data/testing_correlation', 'rb')\n",
    "        self.data_correlation = pickle.load(file)\n",
    "        file.close()\n",
    "        file = open('data/testing_zscore', 'rb')\n",
    "        self.zscore = pickle.load(file)\n",
    "        \n",
    "    def test0(self):\n",
    "        \"\"\"\n",
    "        Test min_max normalization \n",
    "        \"\"\"\n",
    "        result = normalization(\"./data/normalization_test_data.csv\", 0, \"min_max\")\n",
    "        for key,value in self.data_normalization.items():\n",
    "            self.assertAlmostEqual(result[key],value, places = 1)\n",
    "            \n",
    "    \n",
    "    def test1(self):\n",
    "        \"\"\"\n",
    "        Test zcore normalization\n",
    "        \"\"\"\n",
    "        result = normalization(\"./data/normalization_test_data.csv\", 1, \"z_score\")\n",
    "        for key, value in self.zscore.items():\n",
    "            self.assertAlmostEqual(result[key], value, places = 1)\n",
    "    \n",
    "    def test2(self):\n",
    "        \"\"\"\n",
    "        Test correlation \n",
    "        \"\"\"\n",
    "        result = correlation('./data/correlation_test_data.csv', 0, \"./data/correlation_test_data.csv\", 0)\n",
    "        self.assertAlmostEqual(result,self.data_correlation, places = 1)\n",
    "       \n",
    "   \n",
    "tests = TestKnn()\n",
    "tests_to_run = unittest.TestLoader().loadTestsFromModule(tests)\n",
    "unittest.TextTestRunner().run(tests_to_run)"
   ]
  },
  {
   "cell_type": "markdown",
   "metadata": {
    "deletable": false,
    "editable": false,
    "nbgrader": {
     "cell_type": "markdown",
     "checksum": "288051f75f190c1b29700f8c866f0c4a",
     "grade": false,
     "grade_id": "cell-1d57af814dafe68f",
     "locked": true,
     "schema_version": 3,
     "solution": false,
     "task": false
    }
   },
   "source": [
    "### Problem 2\n",
    "***\n",
    "\n",
    "There are 4 functions that need to be completed:\n",
    "\n",
    "1. For each of the graphs, the input function parameters and the expected output has been mentioned below.\n",
    "2. Use the dataset provided in \"./data/HistoricalQuotes.csv\" to plot the below graphs.\n",
    "3. Instructions have been provided within each function regarding which attributes to choose from.\n",
    "4. The dataset has the following attributes\n",
    "    - Date\n",
    "    - Close\n",
    "    - Volume\n",
    "    - Open\n",
    "    - High\n",
    "    - Low\n",
    "\n",
    "Note:\n",
    "- Make sure the dataset you are using is the one mentioned in the problem statement.\n",
    "- After defining your functions. Create another block to call these functions by passing the attributes mentioned in canvas."
   ]
  },
  {
   "cell_type": "code",
   "execution_count": 7,
   "metadata": {
    "deletable": false,
    "editable": false,
    "nbgrader": {
     "cell_type": "code",
     "checksum": "aff2da14c79cd0b36f2d98169672690e",
     "grade": false,
     "grade_id": "cell-09f7dfae43c9f6f8",
     "locked": true,
     "schema_version": 3,
     "solution": false,
     "task": false
    }
   },
   "outputs": [],
   "source": [
    "import matplotlib\n",
    "# Plot size to 14\" x 7\"\n",
    "matplotlib.rc('figure', figsize = (14, 7))\n",
    "# Font size to 14\n",
    "matplotlib.rc('font', size = 14)\n",
    "# Do not display top and right frame lines\n",
    "matplotlib.rc('axes.spines', top = False, right = False)\n",
    "# Remove grid lines\n",
    "matplotlib.rc('axes', grid = False)\n",
    "# Set backgound color to white\n",
    "matplotlib.rc('axes', facecolor = 'white')"
   ]
  },
  {
   "cell_type": "code",
   "execution_count": 8,
   "metadata": {
    "deletable": false,
    "nbgrader": {
     "cell_type": "code",
     "checksum": "8e320e21e3a51c6fc38e1065a5fce7b8",
     "grade": false,
     "grade_id": "cell-f262493a60cd8007",
     "locked": false,
     "schema_version": 3,
     "solution": true,
     "task": false
    }
   },
   "outputs": [],
   "source": [
    "def temporal_graph():\n",
    "    '''Input : x_data and y_data are the lists containing the data points for x and y axis\n",
    "    xlabel and ylabel are the labels that should be given to the corresponding axes\n",
    "    title contains the title of the graph\n",
    "    \n",
    "    Output : \n",
    "    Plot the temporal change of attributes High and Low values\n",
    "    Return a temporal graph with attributes Date on x-axis and a tuple of High and Low on y-axis displayed\n",
    "    \n",
    "    x_data - a python list of Dates using \"Date\" attribute from the dataset\n",
    "    y_data - a tuple of the High and Low values respectively. 'High' and 'Low' should be stored as python lists.\n",
    "             Ex: y_data = (list(df['attr_1']), list(df['attr_2']))\n",
    "    xlabel, ylabel - A string value representing the axes labels\n",
    "    title - A string representing the title for the graph\n",
    "    '''\n",
    "    \n",
    "    df = pd.read_csv('./data/HistoricalQuotes.csv')\n",
    "    \n",
    "    # your code here\n",
    "    x_data = list(df[\"Date\"])\n",
    "    y_data = (list(df['High']) , list(df['Low']))\n",
    "    xlabel = \"Date\"\n",
    "    ylabel = \"High - Low\"\n",
    "    title = \"temporal_graph\"\n",
    "    \n",
    "    return x_data,y_data,xlabel,ylabel,title"
   ]
  },
  {
   "cell_type": "code",
   "execution_count": 9,
   "metadata": {
    "deletable": false,
    "editable": false,
    "nbgrader": {
     "cell_type": "code",
     "checksum": "10b78e6a952ddec151b6ef22c38ec8db",
     "grade": true,
     "grade_id": "cell-a8a9dace8000b375",
     "locked": true,
     "points": 2,
     "schema_version": 3,
     "solution": false,
     "task": false
    }
   },
   "outputs": [
    {
     "data": {
      "text/plain": [
       "'\\nThis cell has hidden test cases that will run after you submit your assignment. \\nYou can troubleshoot by calling the function and checking return types.\\n'"
      ]
     },
     "execution_count": 9,
     "metadata": {},
     "output_type": "execute_result"
    }
   ],
   "source": [
    "'''\n",
    "This cell has hidden test cases that will run after you submit your assignment. \n",
    "You can troubleshoot by calling the function and checking return types.\n",
    "'''\n"
   ]
  },
  {
   "cell_type": "code",
   "execution_count": 10,
   "metadata": {
    "deletable": false,
    "nbgrader": {
     "cell_type": "code",
     "checksum": "ef467c73f896a2883c3e1bc51d35c11f",
     "grade": false,
     "grade_id": "cell-51ff89ef927d6018",
     "locked": false,
     "schema_version": 3,
     "solution": true,
     "task": false
    }
   },
   "outputs": [],
   "source": [
    "def boxplot():\n",
    "    '''Input : x_data and y_data are the lists containing the data points for x and y axis\n",
    "    base_color and median_color can be used to set colors in the graph.\n",
    "    xlabel and ylabel are the labels that should be given to the corresponding axes\n",
    "    title contains the title of the graph.\n",
    "    \n",
    "    Output : A boxplot with Open and Close attributes on the x-axis displayed\n",
    "    \n",
    "    x_data - a tuple of Open and Close values respectively. Open and Close should be stored as a python list.\n",
    "             Ex: x_data = (list(df['attr_1']), list(df['attr_2']))\n",
    "    xlabel, ylabel - A string value representing the axes labels\n",
    "    title - A string representing the title for the graph\n",
    "    '''\n",
    "    \n",
    "    df = pd.read_csv('./data/HistoricalQuotes.csv')\n",
    "        \n",
    "    # your code here\n",
    "    x_data = (list(df['Open']) , list(df['Close']))\n",
    "    xlabel = \"Close\"\n",
    "    ylabel = \"Open\"\n",
    "    title = \"temporal_graph\"\n",
    "    return x_data,xlabel,ylabel,title"
   ]
  },
  {
   "cell_type": "code",
   "execution_count": 11,
   "metadata": {
    "deletable": false,
    "editable": false,
    "nbgrader": {
     "cell_type": "code",
     "checksum": "fdca2d2c76a46b748804df557feadf39",
     "grade": true,
     "grade_id": "cell-34f53d2a937e45f2",
     "locked": true,
     "points": 1,
     "schema_version": 3,
     "solution": false,
     "task": false
    }
   },
   "outputs": [
    {
     "data": {
      "text/plain": [
       "'\\nThis cell has hidden test cases that will run after you submit your assignment. \\nYou can troubleshoot by calling the function and checking return types.\\n'"
      ]
     },
     "execution_count": 11,
     "metadata": {},
     "output_type": "execute_result"
    }
   ],
   "source": [
    "'''\n",
    "This cell has hidden test cases that will run after you submit your assignment. \n",
    "You can troubleshoot by calling the function and checking return types.\n",
    "'''\n"
   ]
  },
  {
   "cell_type": "code",
   "execution_count": 12,
   "metadata": {
    "deletable": false,
    "nbgrader": {
     "cell_type": "code",
     "checksum": "6ab525c41e6e239d86036fcebe088341",
     "grade": false,
     "grade_id": "cell-6e477222af744e1e",
     "locked": false,
     "schema_version": 3,
     "solution": true,
     "task": false
    }
   },
   "outputs": [],
   "source": [
    "def histogram():\n",
    "    '''Input : data is the list containing the data points for histogram buckets\n",
    "    xlabel and ylabel are the labels that should be given to the corresponding axes\n",
    "    title contains the title of the graph\n",
    "    \n",
    "    Output : A histogram of the Volume attribute displayed\n",
    "    \n",
    "    data - A python list containing the data associated with the Volume attribute\n",
    "    x_label, y_label - A string representing the axes labels \n",
    "    '''\n",
    "\n",
    "    df = pd.read_csv('./data/HistoricalQuotes.csv')\n",
    "\n",
    "    data = []\n",
    "    \n",
    "    # your code here\n",
    "    data = list(df.loc[:,\"Volume\"])\n",
    "    x_label = \"Volume\"\n",
    "    y_label = \"Volume\"\n",
    "    return data, x_label, y_label"
   ]
  },
  {
   "cell_type": "code",
   "execution_count": 13,
   "metadata": {
    "deletable": false,
    "editable": false,
    "nbgrader": {
     "cell_type": "code",
     "checksum": "a4c6c8e00948adc5769275f48e7bd2d3",
     "grade": true,
     "grade_id": "cell-9719ed64b0c27717",
     "locked": true,
     "points": 1,
     "schema_version": 3,
     "solution": false,
     "task": false
    }
   },
   "outputs": [
    {
     "data": {
      "text/plain": [
       "'\\nThis cell has hidden test cases that will run after you submit your assignment. \\nYou can troubleshoot by calling the function and checking return types.\\n'"
      ]
     },
     "execution_count": 13,
     "metadata": {},
     "output_type": "execute_result"
    }
   ],
   "source": [
    "'''\n",
    "This cell has hidden test cases that will run after you submit your assignment. \n",
    "You can troubleshoot by calling the function and checking return types.\n",
    "'''\n"
   ]
  },
  {
   "cell_type": "code",
   "execution_count": 22,
   "metadata": {},
   "outputs": [],
   "source": [
    "import matplotlib.pyplot as plt"
   ]
  },
  {
   "cell_type": "code",
   "execution_count": 23,
   "metadata": {},
   "outputs": [],
   "source": [
    "def amzn_new_plot(data_df):\n",
    "    '''Define this function as you would seem fit to display the plot that interests you using\n",
    "    the same dataset. Define your function parameters and display the resulting plots'''\n",
    "    df = pd.read_csv('./data/HistoricalQuotes.csv')    \n",
    "    data = list(df.loc[:,data_df])\n",
    "    plt.hist(data)\n",
    "    plt.show()"
   ]
  },
  {
   "cell_type": "code",
   "execution_count": 24,
   "metadata": {},
   "outputs": [
    {
     "data": {
      "image/png": "[encoded data removed]",
      "text/plain": [
       "<Figure size 432x288 with 1 Axes>"
      ]
     },
     "metadata": {
      "needs_background": "light"
     },
     "output_type": "display_data"
    }
   ],
   "source": [
    "amzn_new_plot(\"Open\")"
   ]
  },
  {
   "cell_type": "code",
   "execution_count": null,
   "metadata": {},
   "outputs": [],
   "source": []
  }
 ],
 "metadata": {
  "hide_input": false,
  "kernelspec": {
   "display_name": "Python 3",
   "language": "python",
   "name": "python3"
  },
  "language_info": {
   "codemirror_mode": {
    "name": "ipython",
    "version": 3
   },
   "file_extension": ".py",
   "mimetype": "text/x-python",
   "name": "python",
   "nbconvert_exporter": "python",
   "pygments_lexer": "ipython3",
   "version": "3.7.6"
  },
  "latex_envs": {
   "LaTeX_envs_menu_present": true,
   "autoclose": false,
   "autocomplete": true,
   "bibliofile": "biblio.bib",
   "cite_by": "apalike",
   "current_citInitial": 1,
   "eqLabelWithNumbers": true,
   "eqNumInitial": 1,
   "hotkeys": {
    "equation": "Ctrl-E",
    "itemize": "Ctrl-I"
   },
   "labels_anchors": false,
   "latex_user_defs": false,
   "report_style_numbering": false,
   "user_envs_cfg": false
  },
  "nbTranslate": {
   "displayLangs": [
    "*"
   ],
   "hotkey": "alt-t",
   "langInMainMenu": true,
   "sourceLang": "en",
   "targetLang": "fr",
   "useGoogleTranslate": true
  },
  "toc": {
   "base_numbering": 1,
   "nav_menu": {},
   "number_sections": true,
   "sideBar": true,
   "skip_h1_title": false,
   "title_cell": "Table of Contents",
   "title_sidebar": "Contents",
   "toc_cell": false,
   "toc_position": {},
   "toc_section_display": true,
   "toc_window_display": false
  },
  "varInspector": {
   "cols": {
    "lenName": 16,
    "lenType": 16,
    "lenVar": 40
   },
   "kernels_config": {
    "python": {
     "delete_cmd_postfix": "",
     "delete_cmd_prefix": "del ",
     "library": "var_list.py",
     "varRefreshCmd": "print(var_dic_list())"
    },
    "r": {
     "delete_cmd_postfix": ") ",
     "delete_cmd_prefix": "rm(",
     "library": "var_list.r",
     "varRefreshCmd": "cat(var_dic_list()) "
    }
   },
   "types_to_exclude": [
    "module",
    "function",
    "builtin_function_or_method",
    "instance",
    "_Feature"
   ],
   "window_display": false
  }
 },
 "nbformat": 4,
 "nbformat_minor": 2
}
